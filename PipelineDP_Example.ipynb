{
  "nbformat": 4,
  "nbformat_minor": 0,
  "metadata": {
    "colab": {
      "provenance": [],
      "toc_visible": true,
      "authorship_tag": "ABX9TyO89wfiKDFMAtkPrjCAVh3j",
      "include_colab_link": true
    },
    "kernelspec": {
      "name": "python3",
      "display_name": "Python 3"
    },
    "language_info": {
      "name": "python"
    }
  },
  "cells": [
    {
      "cell_type": "markdown",
      "metadata": {
        "id": "view-in-github",
        "colab_type": "text"
      },
      "source": [
        "<a href=\"https://colab.research.google.com/github/Chaitanyasuma/PipelineDP/blob/main/PipelineDP_Example.ipynb\" target=\"_parent\"><img src=\"https://colab.research.google.com/assets/colab-badge.svg\" alt=\"Open In Colab\"/></a>"
      ]
    },
    {
      "cell_type": "code",
      "execution_count": null,
      "metadata": {
        "colab": {
          "base_uri": "https://localhost:8080/"
        },
        "id": "7H3nbx7cOJO4",
        "outputId": "d9e49b6a-7634-4d35-fbe6-d68acf150f91"
      },
      "outputs": [
        {
          "output_type": "stream",
          "name": "stdout",
          "text": [
            "Collecting faker\n",
            "  Downloading Faker-23.3.0-py3-none-any.whl (1.8 MB)\n",
            "\u001b[2K     \u001b[90m━━━━━━━━━━━━━━━━━━━━━━━━━━━━━━━━━━━━━━━━\u001b[0m \u001b[32m1.8/1.8 MB\u001b[0m \u001b[31m10.5 MB/s\u001b[0m eta \u001b[36m0:00:00\u001b[0m\n",
            "\u001b[?25hRequirement already satisfied: python-dateutil>=2.4 in /usr/local/lib/python3.10/dist-packages (from faker) (2.8.2)\n",
            "Requirement already satisfied: six>=1.5 in /usr/local/lib/python3.10/dist-packages (from python-dateutil>=2.4->faker) (1.16.0)\n",
            "Installing collected packages: faker\n",
            "Successfully installed faker-23.3.0\n"
          ]
        }
      ],
      "source": [
        "pip install faker"
      ]
    },
    {
      "cell_type": "code",
      "source": [
        "import pandas as pd\n",
        "import numpy as np\n",
        "\n",
        "# Generate synthetic data for the first dataset (ID, name, age)\n",
        "num_records = 30\n",
        "np.random.seed(0)\n",
        "ids = np.arange(1, num_records + 1)\n",
        "names = ['Name_' + str(i) for i in ids]\n",
        "ages = np.random.randint(20, 60, size=num_records)\n",
        "\n",
        "df1 = pd.DataFrame({'ID': ids, 'Name': names, 'Age': ages})\n",
        "\n",
        "# Generate synthetic data for the second dataset (ID, salary)\n",
        "# Select a subset of IDs from the first dataset to create the second dataset\n",
        "subset_ids = np.random.choice(ids, size=num_records//2, replace=False)\n",
        "salaries = np.random.randint(30000, 100000, size=len(subset_ids))\n",
        "\n",
        "df2 = pd.DataFrame({'ID': subset_ids, 'Salary': salaries})\n",
        "\n",
        "# Save the datasets as CSV files\n",
        "df1.to_csv('dataset1.csv', index=False)\n",
        "df2.to_csv('dataset2.csv', index=False)\n",
        "\n",
        "# Display the paths of the saved CSV files\n",
        "print(\"First dataset saved as 'dataset1.csv'\")\n",
        "print(\"Second dataset saved as 'dataset2.csv'\")\n"
      ],
      "metadata": {
        "colab": {
          "base_uri": "https://localhost:8080/"
        },
        "id": "fvRdBLlBQRWf",
        "outputId": "7f3761ac-506f-4694-b5cd-6efa47cdf835"
      },
      "execution_count": null,
      "outputs": [
        {
          "output_type": "stream",
          "name": "stdout",
          "text": [
            "First dataset saved as 'dataset1.csv'\n",
            "Second dataset saved as 'dataset2.csv'\n"
          ]
        }
      ]
    },
    {
      "cell_type": "code",
      "source": [
        "import numpy as np\n",
        "import matplotlib.pyplot as plt\n",
        "\n",
        "# Given list\n",
        "x = [1, 10, 1, -10, 50]\n",
        "\n",
        "# Calculate statistics\n",
        "sum_x = np.cumsum(x)\n",
        "avg_x = np.array(sum_x) / np.arange(1, len(x) + 1)\n",
        "count_x = np.arange(1, len(x) + 1)\n",
        "min_x = np.minimum.accumulate(x)\n",
        "max_x = np.maximum.accumulate(x)\n",
        "\n",
        "# Calculate cumulative count of distinct elements\n",
        "unique_elements, counts = np.unique(x, return_counts=True)\n",
        "count_distinct_x = np.cumsum(counts)\n",
        "\n",
        "# Repeat the last count value to match the length of other arrays\n",
        "while len(count_distinct_x) < len(count_x):\n",
        "    count_distinct_x = np.append(count_distinct_x, count_distinct_x[-1])\n",
        "\n",
        "# Calculate variance, quantile1, and quantile3\n",
        "# variance_x = np.var(x)\n",
        "quantile1_x = np.percentile(x, 25)\n",
        "quantile3_x = np.percentile(x, 75)\n",
        "\n",
        "# Plot\n",
        "plt.plot(count_x, x, label='x', color='black', linestyle='-')\n",
        "plt.plot(count_x, sum_x, label='Sum', color='blue', linestyle='-')\n",
        "plt.plot(count_x, avg_x, label='Average', color='green', linestyle='-')\n",
        "plt.plot(count_x, min_x, label='Minimum', color='red', linestyle='-')\n",
        "plt.plot(count_x, max_x, label='Maximum', color='orange', linestyle='-')\n",
        "plt.plot(count_x, count_distinct_x, label='Count Distinct', color='purple', linestyle='-')\n",
        "\n",
        "\n",
        "# Plot quantile1 as horizontal line\n",
        "plt.axhline(y=quantile1_x, color='magenta', linestyle='--', label='Quantile1')\n",
        "# Plot quantile3 as horizontal line\n",
        "plt.axhline(y=quantile3_x, color='yellow', linestyle='--', label='Quantile3')\n",
        "\n",
        "# Add labels and legend\n",
        "plt.xlabel('Count')\n",
        "plt.ylabel('Value')\n",
        "plt.title('Statistics of List x')\n",
        "plt.legend()\n",
        "\n",
        "# Show plot\n",
        "plt.grid(True)\n",
        "plt.show()\n"
      ],
      "metadata": {
        "colab": {
          "base_uri": "https://localhost:8080/",
          "height": 472
        },
        "id": "6FrvQF--aU4c",
        "outputId": "51af2080-45f2-4556-ca97-dfc2c28e02f2"
      },
      "execution_count": 8,
      "outputs": [
        {
          "output_type": "display_data",
          "data": {
            "text/plain": [
              "<Figure size 640x480 with 1 Axes>"
            ],
            "image/png": "[encoded data removed]"
          },
          "metadata": {}
        }
      ]
    },
    {
      "cell_type": "markdown",
      "source": [
        "### Assume 2 databases D1 and D2 which contain sensitive and non-sensitive data"
      ],
      "metadata": {
        "id": "IFax1mZNRhpW"
      }
    },
    {
      "cell_type": "code",
      "source": [
        "# Install required libraries\n",
        "!pip install pyspark"
      ],
      "metadata": {
        "colab": {
          "base_uri": "https://localhost:8080/"
        },
        "id": "KiI54wfJR2CV",
        "outputId": "e1ee2f9b-df5d-4259-ab22-590b0eea95d6"
      },
      "execution_count": null,
      "outputs": [
        {
          "output_type": "stream",
          "name": "stdout",
          "text": [
            "Collecting pyspark\n",
            "  Downloading pyspark-3.5.1.tar.gz (317.0 MB)\n",
            "\u001b[2K     \u001b[90m━━━━━━━━━━━━━━━━━━━━━━━━━━━━━━━━━━━━━━━━\u001b[0m \u001b[32m317.0/317.0 MB\u001b[0m \u001b[31m4.7 MB/s\u001b[0m eta \u001b[36m0:00:00\u001b[0m\n",
            "\u001b[?25h  Preparing metadata (setup.py) ... \u001b[?25l\u001b[?25hdone\n",
            "Requirement already satisfied: py4j==0.10.9.7 in /usr/local/lib/python3.10/dist-packages (from pyspark) (0.10.9.7)\n",
            "Building wheels for collected packages: pyspark\n",
            "  Building wheel for pyspark (setup.py) ... \u001b[?25l\u001b[?25hdone\n",
            "  Created wheel for pyspark: filename=pyspark-3.5.1-py2.py3-none-any.whl size=317488493 sha256=608df6709b4ebdf63c9653fa89edc193be7c02e12ff23a1b2e3c8697700a05c8\n",
            "  Stored in directory: /root/.cache/pip/wheels/80/1d/60/2c256ed38dddce2fdd93be545214a63e02fbd8d74fb0b7f3a6\n",
            "Successfully built pyspark\n",
            "Installing collected packages: pyspark\n",
            "Successfully installed pyspark-3.5.1\n"
          ]
        }
      ]
    },
    {
      "cell_type": "code",
      "source": [
        "pip install pipeline-dp pyspark absl-py"
      ],
      "metadata": {
        "colab": {
          "base_uri": "https://localhost:8080/"
        },
        "id": "KgRHHep6TID2",
        "outputId": "27ee77f6-8b26-4f1a-c095-fc673c27b449"
      },
      "execution_count": null,
      "outputs": [
        {
          "output_type": "stream",
          "name": "stdout",
          "text": [
            "Collecting pipeline-dp\n",
            "  Downloading pipeline_dp-0.2.1-py2.py3-none-any.whl (77 kB)\n",
            "\u001b[?25l     \u001b[90m━━━━━━━━━━━━━━━━━━━━━━━━━━━━━━━━━━━━━━━━\u001b[0m \u001b[32m0.0/77.6 kB\u001b[0m \u001b[31m?\u001b[0m eta \u001b[36m-:--:--\u001b[0m\r\u001b[2K     \u001b[90m━━━━━━━━━━━━━━━━━━━━━━━━━━━━━━━━━━━━━━━━\u001b[0m \u001b[32m77.6/77.6 kB\u001b[0m \u001b[31m2.4 MB/s\u001b[0m eta \u001b[36m0:00:00\u001b[0m\n",
            "\u001b[?25hRequirement already satisfied: pyspark in /usr/local/lib/python3.10/dist-packages (3.5.1)\n",
            "Requirement already satisfied: absl-py in /usr/local/lib/python3.10/dist-packages (1.4.0)\n",
            "Requirement already satisfied: numpy<2.0.0,>=1.20.1 in /usr/local/lib/python3.10/dist-packages (from pipeline-dp) (1.25.2)\n",
            "Collecting python-dp>=1.1.5rc4 (from pipeline-dp)\n",
            "  Downloading python_dp-1.1.5rc4-cp310-cp310-manylinux_2_17_x86_64.manylinux2014_x86_64.whl (3.8 MB)\n",
            "\u001b[2K     \u001b[90m━━━━━━━━━━━━━━━━━━━━━━━━━━━━━━━━━━━━━━━━\u001b[0m \u001b[32m3.8/3.8 MB\u001b[0m \u001b[31m17.0 MB/s\u001b[0m eta \u001b[36m0:00:00\u001b[0m\n",
            "\u001b[?25hRequirement already satisfied: scipy<2.0.0,>=1.7.3 in /usr/local/lib/python3.10/dist-packages (from pipeline-dp) (1.11.4)\n",
            "Requirement already satisfied: py4j==0.10.9.7 in /usr/local/lib/python3.10/dist-packages (from pyspark) (0.10.9.7)\n",
            "Installing collected packages: python-dp, pipeline-dp\n",
            "Successfully installed pipeline-dp-0.2.1 python-dp-1.1.5rc4\n"
          ]
        }
      ]
    },
    {
      "cell_type": "code",
      "source": [
        "pip install common_utils"
      ],
      "metadata": {
        "colab": {
          "base_uri": "https://localhost:8080/"
        },
        "id": "Uhg1bVNCTTM9",
        "outputId": "c80fb2d3-e5df-4664-f951-2871f91e9848"
      },
      "execution_count": null,
      "outputs": [
        {
          "output_type": "stream",
          "name": "stdout",
          "text": [
            "Requirement already satisfied: common_utils in /usr/local/lib/python3.10/dist-packages (2.0.1.dev1)\n"
          ]
        }
      ]
    },
    {
      "cell_type": "code",
      "source": [
        "from absl import app\n",
        "from absl import flags\n",
        "import pyspark\n",
        "import pipeline_dp\n",
        "from pipeline_dp.private_spark import make_private\n",
        "from pipeline_dp import SumParams\n"
      ],
      "metadata": {
        "id": "KY5aBqtKTO3Q"
      },
      "execution_count": null,
      "outputs": []
    },
    {
      "cell_type": "code",
      "source": [
        "# Import SparkSession\n",
        "from pyspark.sql import SparkSession\n",
        "\n",
        "# Create SparkSession\n",
        "spark = SparkSession.builder \\\n",
        "    .appName(\"SparkSQLExample\") \\\n",
        "    .getOrCreate()"
      ],
      "metadata": {
        "id": "GmcM3l94SZ52"
      },
      "execution_count": null,
      "outputs": []
    },
    {
      "cell_type": "code",
      "source": [
        "# Load data into DataFrame\n",
        "df_names_and_ages = spark.read.csv(\"dataset1.csv\", header=True, inferSchema=True)\n",
        "\n",
        "df_salaries = spark.read.csv(\"dataset2.csv\", header=True, inferSchema=True)"
      ],
      "metadata": {
        "id": "bhoaFJqKSr9F"
      },
      "execution_count": null,
      "outputs": []
    },
    {
      "cell_type": "code",
      "source": [
        "df_names_and_ages.head()"
      ],
      "metadata": {
        "colab": {
          "base_uri": "https://localhost:8080/"
        },
        "id": "0jp17MgVZ7Dt",
        "outputId": "973a039b-ee7e-4dd8-8794-a8230b420056"
      },
      "execution_count": null,
      "outputs": [
        {
          "output_type": "execute_result",
          "data": {
            "text/plain": [
              "Row(ID=1, Name='Name_1', Age=20)"
            ]
          },
          "metadata": {},
          "execution_count": 20
        }
      ]
    },
    {
      "cell_type": "code",
      "source": [
        "df_salaries.head()"
      ],
      "metadata": {
        "colab": {
          "base_uri": "https://localhost:8080/"
        },
        "id": "GzptTvO-Z_Sw",
        "outputId": "a1efb6a9-2bcd-41bb-a311-5fff9fe6e890"
      },
      "execution_count": null,
      "outputs": [
        {
          "output_type": "execute_result",
          "data": {
            "text/plain": [
              "Row(ID=16, Salary=76522)"
            ]
          },
          "metadata": {},
          "execution_count": 21
        }
      ]
    },
    {
      "cell_type": "code",
      "source": [
        "# define pipelineDP epsilon\n",
        "backend = pipeline_dp.LocalBackend()\n",
        "budget_accountant = pipeline_dp.NaiveBudgetAccountant(total_epsilon=1,\n",
        "                                                          total_delta=1e-6)\n",
        "\n",
        "# Create DPEngine which will execute the logic.\n",
        "dp_engine = pipeline_dp.DPEngine(budget_accountant, backend)"
      ],
      "metadata": {
        "id": "UJVaeW5bXUib"
      },
      "execution_count": null,
      "outputs": []
    },
    {
      "cell_type": "code",
      "source": [
        "# Import necessary functions from pyspark.sql\n",
        "from pyspark.sql import functions as F\n",
        "\n",
        "# Calculate non-private statistics\n",
        "non_private_sum = df_salaries.select(F.sum('salary')).collect()[0][0]\n",
        "non_private_count = df_salaries.select(F.count('salary')).collect()[0][0]\n",
        "non_private_min = df_salaries.select(F.min('salary')).collect()[0][0]\n",
        "non_private_max = df_salaries.select(F.max('salary')).collect()[0][0]\n",
        "non_private_avg = df_salaries.select(F.avg('salary')).collect()[0][0]\n",
        "\n",
        "# Print the results\n",
        "print(\"Non-private Sum:\", non_private_sum)\n",
        "print(\"Non-private Count:\", non_private_count)\n",
        "print(\"Non-private Min:\", non_private_min)\n",
        "print(\"Non-private Max:\", non_private_max)\n",
        "print(\"Non-private Avg:\", non_private_avg)\n"
      ],
      "metadata": {
        "colab": {
          "base_uri": "https://localhost:8080/"
        },
        "id": "tc9mpI3-ZEQX",
        "outputId": "4fddef25-e5c4-4872-e321-b4bc260622f2"
      },
      "execution_count": null,
      "outputs": [
        {
          "output_type": "stream",
          "name": "stdout",
          "text": [
            "Non-private Sum: 932450\n",
            "Non-private Count: 15\n",
            "Non-private Min: 34420\n",
            "Non-private Max: 93360\n",
            "Non-private Avg: 62163.333333333336\n"
          ]
        }
      ]
    },
    {
      "cell_type": "code",
      "source": [
        "import numpy as np\n",
        "\n",
        "# Extract salaries column as NumPy array\n",
        "salaries = np.array(df_salaries.select('salary').rdd.map(lambda row: row.salary).collect())\n",
        "\n",
        "# Define privacy parameters\n",
        "epsilon = 1.0  # Example value, adjust as needed\n",
        "delta = 1e-5   # Example value, adjust as needed\n",
        "\n",
        "# Define privacy ID, partition key and aggregated value extractors.\n",
        "# The aggregated value extractor isn't used in this example.\n",
        "data_extractors = pipeline_dp.DataExtractors(\n",
        "   partition_extractor=lambda row: row.day,\n",
        "   privacy_id_extractor=lambda row: row.user_id,\n",
        "   value_extractor=lambda row: 1)\n",
        "\n",
        "# Configure the aggregation parameters.\n",
        "params = pipeline_dp.AggregateParams(\n",
        "   noise_kind=pipeline_dp.NoiseKind.LAPLACE,\n",
        "   # This example computes only count but we can compute multiple\n",
        "   # ... metrics at once.\n",
        "   metrics=[pipeline_dp.Metrics.COUNT],\n",
        "   # Limits visits contributed by a visitor. A visitor can contribute to\n",
        "   # ... up to 3 days\n",
        "   max_partitions_contributed=3,\n",
        "   # ... and up to 2 visits per day.\n",
        "   max_contributions_per_partition=2)\n",
        "# Configure the output partition keys as they are publicly known.\n",
        "# The output should include all week days.\n",
        "public_partitions=list(range(1, 8))\n",
        "\n",
        "dp_result_sum = df_salaries.sum(\n",
        "        SumParams(\n",
        "            # Limits to how much one user can contribute:\n",
        "            # .. at most 1 salary per user\n",
        "            max_partitions_contributed=1, # it's like the user is defining the sensitivity????\n",
        "            # .. at most one rating for each movie\n",
        "            # max_contributions_per_partition=1,\n",
        "            # .. with minimal rating of \"1\"\n",
        "            min_value=0,\n",
        "            # .. and maximum rating of \"5\"\n",
        "            # max_value=5,\n",
        "            # The aggregation key: we're grouping by movies\n",
        "            # partition_extractor=lambda mv: mv.movie_id,\n",
        "            # The value we're aggregating: we're summing up ratings\n",
        "            value_extractor=lambda sal: sal.Salary),\n",
        "        out_explain_computaton_report=explain_computation_report)\n",
        "\n",
        "budget_accountant.compute_budgets()\n",
        "\n",
        "# Generate the Explain Computation Report. It must be called after\n",
        "# budget_accountant.compute_budgets().\n",
        "print(explain_computation_report.text())\n",
        "\n",
        "\n",
        "# Print the private results\n",
        "print(\"Private Sum:\", dp_result_sum)\n",
        "# print(\"Private Count:\", private_count)\n",
        "# print(\"Private Min:\", private_min)\n",
        "# print(\"Private Max:\", private_max)\n",
        "# print(\"Private Avg:\", private_avg)"
      ],
      "metadata": {
        "colab": {
          "base_uri": "https://localhost:8080/",
          "height": 349
        },
        "id": "jQe3qO9eXZaw",
        "outputId": "0d80f396-9e40-4010-ee73-1e48df33bfbc"
      },
      "execution_count": null,
      "outputs": [
        {
          "output_type": "error",
          "ename": "AttributeError",
          "evalue": "'DataFrame' object has no attribute 'sum'",
          "traceback": [
            "\u001b[0;31m---------------------------------------------------------------------------\u001b[0m",
            "\u001b[0;31mAttributeError\u001b[0m                            Traceback (most recent call last)",
            "\u001b[0;32m<ipython-input-28-2a4795714f40>\u001b[0m in \u001b[0;36m<cell line: 12>\u001b[0;34m()\u001b[0m\n\u001b[1;32m     10\u001b[0m \u001b[0mdelta\u001b[0m \u001b[0;34m=\u001b[0m \u001b[0;36m1e-5\u001b[0m   \u001b[0;31m# Example value, adjust as needed\u001b[0m\u001b[0;34m\u001b[0m\u001b[0;34m\u001b[0m\u001b[0m\n\u001b[1;32m     11\u001b[0m \u001b[0;34m\u001b[0m\u001b[0m\n\u001b[0;32m---> 12\u001b[0;31m dp_result_sum = df_salaries.sum(\n\u001b[0m\u001b[1;32m     13\u001b[0m         SumParams(\n\u001b[1;32m     14\u001b[0m             \u001b[0;31m# Limits to how much one user can contribute:\u001b[0m\u001b[0;34m\u001b[0m\u001b[0;34m\u001b[0m\u001b[0m\n",
            "\u001b[0;32m/usr/local/lib/python3.10/dist-packages/pyspark/sql/dataframe.py\u001b[0m in \u001b[0;36m__getattr__\u001b[0;34m(self, name)\u001b[0m\n\u001b[1;32m   3125\u001b[0m         \"\"\"\n\u001b[1;32m   3126\u001b[0m         \u001b[0;32mif\u001b[0m \u001b[0mname\u001b[0m \u001b[0;32mnot\u001b[0m \u001b[0;32min\u001b[0m \u001b[0mself\u001b[0m\u001b[0;34m.\u001b[0m\u001b[0mcolumns\u001b[0m\u001b[0;34m:\u001b[0m\u001b[0;34m\u001b[0m\u001b[0;34m\u001b[0m\u001b[0m\n\u001b[0;32m-> 3127\u001b[0;31m             raise AttributeError(\n\u001b[0m\u001b[1;32m   3128\u001b[0m                 \u001b[0;34m\"'%s' object has no attribute '%s'\"\u001b[0m \u001b[0;34m%\u001b[0m \u001b[0;34m(\u001b[0m\u001b[0mself\u001b[0m\u001b[0;34m.\u001b[0m\u001b[0m__class__\u001b[0m\u001b[0;34m.\u001b[0m\u001b[0m__name__\u001b[0m\u001b[0;34m,\u001b[0m \u001b[0mname\u001b[0m\u001b[0;34m)\u001b[0m\u001b[0;34m\u001b[0m\u001b[0;34m\u001b[0m\u001b[0m\n\u001b[1;32m   3129\u001b[0m             )\n",
            "\u001b[0;31mAttributeError\u001b[0m: 'DataFrame' object has no attribute 'sum'"
          ]
        }
      ]
    },
    {
      "cell_type": "code",
      "source": [],
      "metadata": {
        "id": "SSwv_EgtagK7"
      },
      "execution_count": null,
      "outputs": []
    }
  ]
}