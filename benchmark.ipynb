{
 "cells": [
  {
   "cell_type": "code",
   "execution_count": 26,
   "metadata": {},
   "outputs": [
    {
     "name": "stderr",
     "output_type": "stream",
     "text": [
      "24/04/30 04:31:45 WARN SparkSession: Using an existing Spark session; only runtime SQL configurations will take effect.\n"
     ]
    }
   ],
   "source": [
    "from pyspark.sql import SparkSession, DataFrame\n",
    "from pyspark.sql.functions import lower, col, count, concat_ws\n",
    "from pyspark.sql.types import Row\n",
    "from pyspark import RDD\n",
    "from typing import List, Tuple, Callable, Dict, Optional, Any, NamedTuple\n",
    "import numpy as np\n",
    "import scipy.stats as stats\n",
    "\n",
    "spark = (SparkSession.builder.appName(\"pacdb\")\n",
    "         .config(\"spark.executor.memory\", \"512M\")\n",
    "         .config(\"spark.sql.warehouse.dir\", \".spark\")\n",
    "         .enableHiveSupport()\n",
    "         .getOrCreate())\n",
    "\n",
    "spark.conf.set(\"spark.sql.execution.arrow.pyspark.enabled\", \"true\")\n",
    "import matplotlib as mpl\n",
    "import matplotlib.pyplot as plt\n",
    "import matplotlib.ticker as mtick\n",
    "import matplotlib.lines as mlines\n",
    "import matplotlib.patches as mpatches\n",
    "\n",
    "# set font to Times New Roman\n",
    "LATEX = False\n",
    "if LATEX:\n",
    "    mpl.rcParams['text.usetex'] = True\n",
    "    mpl.rcParams[\"font.family\"] = \"serif\"\n",
    "    mpl.rcParams[\"font.serif\"] = \"Times\"\n",
    "else:\n",
    "    mpl.rcParams['text.usetex'] = False\n",
    "    mpl.rcParams[\"font.family\"] = \"Times New Roman\"\n",
    "\n",
    "plt.rcParams['svg.fonttype'] = 'none'\n",
    "mpl.rcParams['savefig.dpi'] = 300\n",
    "\n",
    "import matplotlib_inline.backend_inline\n",
    "matplotlib_inline.backend_inline.set_matplotlib_formats('svg')\n",
    "\n",
    "mpl.rcParams['axes.titleweight'] = 'bold'"
   ]
  },
  {
   "cell_type": "code",
   "execution_count": 27,
   "metadata": {},
   "outputs": [],
   "source": [
    "#@markdown Install dependencies and load data\n",
    "\n",
    "import sys\n",
    "\n",
    "from IPython.display import clear_output\n",
    "clear_output()\n",
    "\n",
    "import pandas as pd\n",
    "import numpy as np\n",
    "import matplotlib.pyplot as plt"
   ]
  },
  {
   "cell_type": "code",
   "execution_count": 28,
   "metadata": {},
   "outputs": [],
   "source": [
    "import pandas as pd\n",
    "\n",
    "math_df = pd.read_csv(\"./pipeline_dp/data/student_performance/student-mat.csv\", delimiter=\";\") \n",
    "math_df['ID'] = range(1, len(math_df) + 1)\n",
    "\n",
    "portuguese_df = pd.read_csv(\"./pipeline_dp/data/student_performance/student-por.csv\", delimiter=\";\")\n",
    "portuguese_df['ID'] = range(1, len(portuguese_df) + 1)"
   ]
  },
  {
   "cell_type": "code",
   "execution_count": 29,
   "metadata": {},
   "outputs": [
    {
     "data": {
      "text/html": [
       "<div>\n",
       "<style scoped>\n",
       "    .dataframe tbody tr th:only-of-type {\n",
       "        vertical-align: middle;\n",
       "    }\n",
       "\n",
       "    .dataframe tbody tr th {\n",
       "        vertical-align: top;\n",
       "    }\n",
       "\n",
       "    .dataframe thead th {\n",
       "        text-align: right;\n",
       "    }\n",
       "</style>\n",
       "<table border=\"1\" class=\"dataframe\">\n",
       "  <thead>\n",
       "    <tr style=\"text-align: right;\">\n",
       "      <th></th>\n",
       "      <th>school</th>\n",
       "      <th>sex</th>\n",
       "      <th>age</th>\n",
       "      <th>address</th>\n",
       "      <th>famsize</th>\n",
       "      <th>Pstatus</th>\n",
       "      <th>Medu</th>\n",
       "      <th>Fedu</th>\n",
       "      <th>Mjob</th>\n",
       "      <th>Fjob</th>\n",
       "      <th>...</th>\n",
       "      <th>freetime</th>\n",
       "      <th>goout</th>\n",
       "      <th>Dalc</th>\n",
       "      <th>Walc</th>\n",
       "      <th>health</th>\n",
       "      <th>absences</th>\n",
       "      <th>G1</th>\n",
       "      <th>G2</th>\n",
       "      <th>G3</th>\n",
       "      <th>ID</th>\n",
       "    </tr>\n",
       "  </thead>\n",
       "  <tbody>\n",
       "    <tr>\n",
       "      <th>0</th>\n",
       "      <td>GP</td>\n",
       "      <td>F</td>\n",
       "      <td>18</td>\n",
       "      <td>U</td>\n",
       "      <td>GT3</td>\n",
       "      <td>A</td>\n",
       "      <td>4</td>\n",
       "      <td>4</td>\n",
       "      <td>at_home</td>\n",
       "      <td>teacher</td>\n",
       "      <td>...</td>\n",
       "      <td>3</td>\n",
       "      <td>4</td>\n",
       "      <td>1</td>\n",
       "      <td>1</td>\n",
       "      <td>3</td>\n",
       "      <td>6</td>\n",
       "      <td>5</td>\n",
       "      <td>6</td>\n",
       "      <td>6</td>\n",
       "      <td>1</td>\n",
       "    </tr>\n",
       "    <tr>\n",
       "      <th>1</th>\n",
       "      <td>GP</td>\n",
       "      <td>F</td>\n",
       "      <td>17</td>\n",
       "      <td>U</td>\n",
       "      <td>GT3</td>\n",
       "      <td>T</td>\n",
       "      <td>1</td>\n",
       "      <td>1</td>\n",
       "      <td>at_home</td>\n",
       "      <td>other</td>\n",
       "      <td>...</td>\n",
       "      <td>3</td>\n",
       "      <td>3</td>\n",
       "      <td>1</td>\n",
       "      <td>1</td>\n",
       "      <td>3</td>\n",
       "      <td>4</td>\n",
       "      <td>5</td>\n",
       "      <td>5</td>\n",
       "      <td>6</td>\n",
       "      <td>2</td>\n",
       "    </tr>\n",
       "    <tr>\n",
       "      <th>2</th>\n",
       "      <td>GP</td>\n",
       "      <td>F</td>\n",
       "      <td>15</td>\n",
       "      <td>U</td>\n",
       "      <td>LE3</td>\n",
       "      <td>T</td>\n",
       "      <td>1</td>\n",
       "      <td>1</td>\n",
       "      <td>at_home</td>\n",
       "      <td>other</td>\n",
       "      <td>...</td>\n",
       "      <td>3</td>\n",
       "      <td>2</td>\n",
       "      <td>2</td>\n",
       "      <td>3</td>\n",
       "      <td>3</td>\n",
       "      <td>10</td>\n",
       "      <td>7</td>\n",
       "      <td>8</td>\n",
       "      <td>10</td>\n",
       "      <td>3</td>\n",
       "    </tr>\n",
       "    <tr>\n",
       "      <th>3</th>\n",
       "      <td>GP</td>\n",
       "      <td>F</td>\n",
       "      <td>15</td>\n",
       "      <td>U</td>\n",
       "      <td>GT3</td>\n",
       "      <td>T</td>\n",
       "      <td>4</td>\n",
       "      <td>2</td>\n",
       "      <td>health</td>\n",
       "      <td>services</td>\n",
       "      <td>...</td>\n",
       "      <td>2</td>\n",
       "      <td>2</td>\n",
       "      <td>1</td>\n",
       "      <td>1</td>\n",
       "      <td>5</td>\n",
       "      <td>2</td>\n",
       "      <td>15</td>\n",
       "      <td>14</td>\n",
       "      <td>15</td>\n",
       "      <td>4</td>\n",
       "    </tr>\n",
       "    <tr>\n",
       "      <th>4</th>\n",
       "      <td>GP</td>\n",
       "      <td>F</td>\n",
       "      <td>16</td>\n",
       "      <td>U</td>\n",
       "      <td>GT3</td>\n",
       "      <td>T</td>\n",
       "      <td>3</td>\n",
       "      <td>3</td>\n",
       "      <td>other</td>\n",
       "      <td>other</td>\n",
       "      <td>...</td>\n",
       "      <td>3</td>\n",
       "      <td>2</td>\n",
       "      <td>1</td>\n",
       "      <td>2</td>\n",
       "      <td>5</td>\n",
       "      <td>4</td>\n",
       "      <td>6</td>\n",
       "      <td>10</td>\n",
       "      <td>10</td>\n",
       "      <td>5</td>\n",
       "    </tr>\n",
       "  </tbody>\n",
       "</table>\n",
       "<p>5 rows × 34 columns</p>\n",
       "</div>"
      ],
      "text/plain": [
       "  school sex  age address famsize Pstatus  Medu  Fedu     Mjob      Fjob  ...  \\\n",
       "0     GP   F   18       U     GT3       A     4     4  at_home   teacher  ...   \n",
       "1     GP   F   17       U     GT3       T     1     1  at_home     other  ...   \n",
       "2     GP   F   15       U     LE3       T     1     1  at_home     other  ...   \n",
       "3     GP   F   15       U     GT3       T     4     2   health  services  ...   \n",
       "4     GP   F   16       U     GT3       T     3     3    other     other  ...   \n",
       "\n",
       "  freetime goout  Dalc  Walc  health absences  G1  G2  G3 ID  \n",
       "0        3     4     1     1       3        6   5   6   6  1  \n",
       "1        3     3     1     1       3        4   5   5   6  2  \n",
       "2        3     2     2     3       3       10   7   8  10  3  \n",
       "3        2     2     1     1       5        2  15  14  15  4  \n",
       "4        3     2     1     2       5        4   6  10  10  5  \n",
       "\n",
       "[5 rows x 34 columns]"
      ]
     },
     "execution_count": 29,
     "metadata": {},
     "output_type": "execute_result"
    }
   ],
   "source": [
    "math_df.head()"
   ]
  },
  {
   "cell_type": "code",
   "execution_count": 30,
   "metadata": {},
   "outputs": [
    {
     "data": {
      "text/html": [
       "<div>\n",
       "<style scoped>\n",
       "    .dataframe tbody tr th:only-of-type {\n",
       "        vertical-align: middle;\n",
       "    }\n",
       "\n",
       "    .dataframe tbody tr th {\n",
       "        vertical-align: top;\n",
       "    }\n",
       "\n",
       "    .dataframe thead th {\n",
       "        text-align: right;\n",
       "    }\n",
       "</style>\n",
       "<table border=\"1\" class=\"dataframe\">\n",
       "  <thead>\n",
       "    <tr style=\"text-align: right;\">\n",
       "      <th></th>\n",
       "      <th>school</th>\n",
       "      <th>sex</th>\n",
       "      <th>age</th>\n",
       "      <th>address</th>\n",
       "      <th>famsize</th>\n",
       "      <th>Pstatus</th>\n",
       "      <th>Medu</th>\n",
       "      <th>Fedu</th>\n",
       "      <th>Mjob</th>\n",
       "      <th>Fjob</th>\n",
       "      <th>...</th>\n",
       "      <th>freetime</th>\n",
       "      <th>goout</th>\n",
       "      <th>Dalc</th>\n",
       "      <th>Walc</th>\n",
       "      <th>health</th>\n",
       "      <th>absences</th>\n",
       "      <th>G1</th>\n",
       "      <th>G2</th>\n",
       "      <th>G3</th>\n",
       "      <th>ID</th>\n",
       "    </tr>\n",
       "  </thead>\n",
       "  <tbody>\n",
       "    <tr>\n",
       "      <th>0</th>\n",
       "      <td>GP</td>\n",
       "      <td>F</td>\n",
       "      <td>18</td>\n",
       "      <td>U</td>\n",
       "      <td>GT3</td>\n",
       "      <td>A</td>\n",
       "      <td>4</td>\n",
       "      <td>4</td>\n",
       "      <td>at_home</td>\n",
       "      <td>teacher</td>\n",
       "      <td>...</td>\n",
       "      <td>3</td>\n",
       "      <td>4</td>\n",
       "      <td>1</td>\n",
       "      <td>1</td>\n",
       "      <td>3</td>\n",
       "      <td>4</td>\n",
       "      <td>0</td>\n",
       "      <td>11</td>\n",
       "      <td>11</td>\n",
       "      <td>1</td>\n",
       "    </tr>\n",
       "    <tr>\n",
       "      <th>1</th>\n",
       "      <td>GP</td>\n",
       "      <td>F</td>\n",
       "      <td>17</td>\n",
       "      <td>U</td>\n",
       "      <td>GT3</td>\n",
       "      <td>T</td>\n",
       "      <td>1</td>\n",
       "      <td>1</td>\n",
       "      <td>at_home</td>\n",
       "      <td>other</td>\n",
       "      <td>...</td>\n",
       "      <td>3</td>\n",
       "      <td>3</td>\n",
       "      <td>1</td>\n",
       "      <td>1</td>\n",
       "      <td>3</td>\n",
       "      <td>2</td>\n",
       "      <td>9</td>\n",
       "      <td>11</td>\n",
       "      <td>11</td>\n",
       "      <td>2</td>\n",
       "    </tr>\n",
       "    <tr>\n",
       "      <th>2</th>\n",
       "      <td>GP</td>\n",
       "      <td>F</td>\n",
       "      <td>15</td>\n",
       "      <td>U</td>\n",
       "      <td>LE3</td>\n",
       "      <td>T</td>\n",
       "      <td>1</td>\n",
       "      <td>1</td>\n",
       "      <td>at_home</td>\n",
       "      <td>other</td>\n",
       "      <td>...</td>\n",
       "      <td>3</td>\n",
       "      <td>2</td>\n",
       "      <td>2</td>\n",
       "      <td>3</td>\n",
       "      <td>3</td>\n",
       "      <td>6</td>\n",
       "      <td>12</td>\n",
       "      <td>13</td>\n",
       "      <td>12</td>\n",
       "      <td>3</td>\n",
       "    </tr>\n",
       "    <tr>\n",
       "      <th>3</th>\n",
       "      <td>GP</td>\n",
       "      <td>F</td>\n",
       "      <td>15</td>\n",
       "      <td>U</td>\n",
       "      <td>GT3</td>\n",
       "      <td>T</td>\n",
       "      <td>4</td>\n",
       "      <td>2</td>\n",
       "      <td>health</td>\n",
       "      <td>services</td>\n",
       "      <td>...</td>\n",
       "      <td>2</td>\n",
       "      <td>2</td>\n",
       "      <td>1</td>\n",
       "      <td>1</td>\n",
       "      <td>5</td>\n",
       "      <td>0</td>\n",
       "      <td>14</td>\n",
       "      <td>14</td>\n",
       "      <td>14</td>\n",
       "      <td>4</td>\n",
       "    </tr>\n",
       "    <tr>\n",
       "      <th>4</th>\n",
       "      <td>GP</td>\n",
       "      <td>F</td>\n",
       "      <td>16</td>\n",
       "      <td>U</td>\n",
       "      <td>GT3</td>\n",
       "      <td>T</td>\n",
       "      <td>3</td>\n",
       "      <td>3</td>\n",
       "      <td>other</td>\n",
       "      <td>other</td>\n",
       "      <td>...</td>\n",
       "      <td>3</td>\n",
       "      <td>2</td>\n",
       "      <td>1</td>\n",
       "      <td>2</td>\n",
       "      <td>5</td>\n",
       "      <td>0</td>\n",
       "      <td>11</td>\n",
       "      <td>13</td>\n",
       "      <td>13</td>\n",
       "      <td>5</td>\n",
       "    </tr>\n",
       "  </tbody>\n",
       "</table>\n",
       "<p>5 rows × 34 columns</p>\n",
       "</div>"
      ],
      "text/plain": [
       "  school sex  age address famsize Pstatus  Medu  Fedu     Mjob      Fjob  ...  \\\n",
       "0     GP   F   18       U     GT3       A     4     4  at_home   teacher  ...   \n",
       "1     GP   F   17       U     GT3       T     1     1  at_home     other  ...   \n",
       "2     GP   F   15       U     LE3       T     1     1  at_home     other  ...   \n",
       "3     GP   F   15       U     GT3       T     4     2   health  services  ...   \n",
       "4     GP   F   16       U     GT3       T     3     3    other     other  ...   \n",
       "\n",
       "  freetime goout  Dalc  Walc  health absences  G1  G2  G3 ID  \n",
       "0        3     4     1     1       3        4   0  11  11  1  \n",
       "1        3     3     1     1       3        2   9  11  11  2  \n",
       "2        3     2     2     3       3        6  12  13  12  3  \n",
       "3        2     2     1     1       5        0  14  14  14  4  \n",
       "4        3     2     1     2       5        0  11  13  13  5  \n",
       "\n",
       "[5 rows x 34 columns]"
      ]
     },
     "execution_count": 30,
     "metadata": {},
     "output_type": "execute_result"
    }
   ],
   "source": [
    "portuguese_df.head()"
   ]
  },
  {
   "cell_type": "markdown",
   "metadata": {},
   "source": [
    "## Sample Query"
   ]
  },
  {
   "cell_type": "code",
   "execution_count": 31,
   "metadata": {},
   "outputs": [
    {
     "name": "stdout",
     "output_type": "stream",
     "text": [
      "  user  salary\n",
      "0    A      10\n",
      "1    B      20\n",
      "2    C      15\n"
     ]
    }
   ],
   "source": [
    "import pandas as pd\n",
    "data = {'user': ['A', 'B', 'C'],\n",
    "        'salary': [10, 20, 15]} \n",
    "df = pd.DataFrame(data)\n",
    "\n",
    "filtered_df = df[(df['salary'] >= 1) & (df['salary'] < 29)]\n",
    "\n",
    "print(filtered_df)"
   ]
  },
  {
   "cell_type": "code",
   "execution_count": 32,
   "metadata": {},
   "outputs": [],
   "source": [
    "import pipeline_dp\n",
    "from pipeline_dp.aggregate_params import AggregateParams\n",
    "from pipeline_dp.data_extractors import DataExtractors\n",
    "from pipeline_dp import budget_accounting\n",
    "import pipeline_dp.aggregate_params as aggregate_params\n",
    "from pipeline_dp.dp_engine import DPEngine\n",
    "import pipeline_dp.pipeline_backend as pipeline_backend\n",
    "from tests import dp_engine_test\n",
    "rows = [index_row[1] for index_row in filtered_df.iterrows()]\n",
    "\n",
    "backend = pipeline_backend.LocalBackend()\n",
    "budget_accountant = budget_accounting.NaiveBudgetAccountant(total_epsilon=1, total_delta=1e-6)\n",
    "dp_engine = DPEngine(budget_accountant, backend)"
   ]
  },
  {
   "cell_type": "code",
   "execution_count": 33,
   "metadata": {},
   "outputs": [],
   "source": [
    "data_extractors = DataExtractors(\n",
    "   partition_extractor=lambda row: row.user, # partition is also ID\n",
    "   privacy_id_extractor=lambda row: row.user, # privacy ID\n",
    "   value_extractor=lambda row: row.salary) # value to be aggregated - we count the number of IDs\n",
    "\n",
    "params = AggregateParams(\n",
    "   noise_kind=pipeline_dp.NoiseKind.LAPLACE,\n",
    "   metrics=[pipeline_dp.Metrics.COUNT],\n",
    "   min_value=0,\n",
    "   max_value=10,\n",
    "   max_partitions_contributed=1,\n",
    "   max_contributions_per_partition=1\n",
    ")"
   ]
  },
  {
   "cell_type": "code",
   "execution_count": 34,
   "metadata": {},
   "outputs": [
    {
     "name": "stdout",
     "output_type": "stream",
     "text": [
      "[]\n"
     ]
    }
   ],
   "source": [
    "dp_result = dp_engine.aggregate(rows, params, data_extractors)\n",
    "budget_accountant.compute_budgets()\n",
    "dp_result = list(dp_result)\n",
    "\n",
    "print(dp_result)"
   ]
  },
  {
   "cell_type": "markdown",
   "metadata": {},
   "source": [
    "# JOIN \n",
    "\n",
    "Join both tables on ID and find the total number of absences as an aggregation of absences"
   ]
  },
  {
   "cell_type": "code",
   "execution_count": 35,
   "metadata": {},
   "outputs": [],
   "source": [
    "# Non-private query\n",
    "\n",
    "import pandas as pd\n",
    "\n",
    "math_and_portuguese = pd.merge(math_df, portuguese_df, on='ID', how='outer')\n",
    "math_and_portuguese.head()\n",
    "\n",
    "math_and_portuguese['total_absences'] = math_and_portuguese['absences_x'].fillna(0) + math_and_portuguese['absences_y'].fillna(0)\n",
    "math_and_portuguese.drop(columns=['absences_x', 'absences_y'], inplace=True)\n",
    "\n",
    "total_absences_grouped_by_id = math_and_portuguese[['ID', 'total_absences']]"
   ]
  },
  {
   "cell_type": "code",
   "execution_count": 36,
   "metadata": {},
   "outputs": [
    {
     "data": {
      "text/html": [
       "<div>\n",
       "<style scoped>\n",
       "    .dataframe tbody tr th:only-of-type {\n",
       "        vertical-align: middle;\n",
       "    }\n",
       "\n",
       "    .dataframe tbody tr th {\n",
       "        vertical-align: top;\n",
       "    }\n",
       "\n",
       "    .dataframe thead th {\n",
       "        text-align: right;\n",
       "    }\n",
       "</style>\n",
       "<table border=\"1\" class=\"dataframe\">\n",
       "  <thead>\n",
       "    <tr style=\"text-align: right;\">\n",
       "      <th></th>\n",
       "      <th>ID</th>\n",
       "      <th>total_absences</th>\n",
       "    </tr>\n",
       "  </thead>\n",
       "  <tbody>\n",
       "    <tr>\n",
       "      <th>0</th>\n",
       "      <td>1</td>\n",
       "      <td>10.0</td>\n",
       "    </tr>\n",
       "    <tr>\n",
       "      <th>1</th>\n",
       "      <td>2</td>\n",
       "      <td>6.0</td>\n",
       "    </tr>\n",
       "    <tr>\n",
       "      <th>2</th>\n",
       "      <td>3</td>\n",
       "      <td>16.0</td>\n",
       "    </tr>\n",
       "    <tr>\n",
       "      <th>3</th>\n",
       "      <td>4</td>\n",
       "      <td>2.0</td>\n",
       "    </tr>\n",
       "    <tr>\n",
       "      <th>4</th>\n",
       "      <td>5</td>\n",
       "      <td>4.0</td>\n",
       "    </tr>\n",
       "  </tbody>\n",
       "</table>\n",
       "</div>"
      ],
      "text/plain": [
       "   ID  total_absences\n",
       "0   1            10.0\n",
       "1   2             6.0\n",
       "2   3            16.0\n",
       "3   4             2.0\n",
       "4   5             4.0"
      ]
     },
     "execution_count": 36,
     "metadata": {},
     "output_type": "execute_result"
    }
   ],
   "source": [
    "total_absences_grouped_by_id.head()"
   ]
  },
  {
   "cell_type": "code",
   "execution_count": 37,
   "metadata": {},
   "outputs": [],
   "source": [
    "from pipeline_dp import budget_accounting\n",
    "import pipeline_dp.aggregate_params as aggregate_params\n",
    "from pipeline_dp.dp_engine import DPEngine\n",
    "import pipeline_dp.pipeline_backend as pipeline_backend\n",
    "from tests import dp_engine_test\n",
    "rows = [index_row[1] for index_row in math_df.iterrows()]\n",
    "\n",
    "backend = pipeline_backend.LocalBackend()\n",
    "budget_accountant = budget_accounting.NaiveBudgetAccountant(total_epsilon=1, total_delta=1e-6)\n",
    "dp_engine = DPEngine(budget_accountant, backend)"
   ]
  },
  {
   "cell_type": "markdown",
   "metadata": {},
   "source": [
    "## Find count of absences per gender"
   ]
  },
  {
   "cell_type": "code",
   "execution_count": 38,
   "metadata": {},
   "outputs": [
    {
     "name": "stdout",
     "output_type": "stream",
     "text": [
      "sex\n",
      "F    208\n",
      "M    187\n",
      "Name: absences, dtype: int64\n"
     ]
    }
   ],
   "source": [
    "import pandas as pd\n",
    "\n",
    "absences_per_gender = math_df.groupby('sex')['absences'].count()\n",
    "print(absences_per_gender)\n"
   ]
  },
  {
   "cell_type": "code",
   "execution_count": 39,
   "metadata": {},
   "outputs": [],
   "source": [
    "import pipeline_dp\n",
    "from pipeline_dp.aggregate_params import AggregateParams\n",
    "from pipeline_dp.data_extractors import DataExtractors\n",
    "\n",
    "data_extractors = DataExtractors(\n",
    "   partition_extractor=lambda row: row.sex, # partition is also ID\n",
    "   privacy_id_extractor=lambda row: row.ID, # privacy ID\n",
    "   value_extractor=lambda row: row.absences) # value to be aggregated - we count the number of IDs\n",
    "\n",
    "params = AggregateParams(\n",
    "   noise_kind=pipeline_dp.NoiseKind.GAUSSIAN,\n",
    "   metrics=[pipeline_dp.Metrics.COUNT],\n",
    "   min_value=0,\n",
    "   max_value=100,\n",
    "   max_partitions_contributed=1,\n",
    "   max_contributions_per_partition=1\n",
    ")"
   ]
  },
  {
   "cell_type": "code",
   "execution_count": 40,
   "metadata": {},
   "outputs": [],
   "source": [
    "dp_result = dp_engine.aggregate(rows, params, data_extractors)\n",
    "budget_accountant.compute_budgets()\n",
    "dp_result = list(dp_result)"
   ]
  },
  {
   "cell_type": "code",
   "execution_count": 41,
   "metadata": {},
   "outputs": [
    {
     "name": "stdout",
     "output_type": "stream",
     "text": [
      "[('F', MetricsTuple(count=204.00675678153172)), ('M', MetricsTuple(count=182.15042488753755))]\n"
     ]
    }
   ],
   "source": [
    "print(dp_result)"
   ]
  },
  {
   "cell_type": "markdown",
   "metadata": {},
   "source": [
    "## Count of absences per gender - only 1 F record"
   ]
  },
  {
   "cell_type": "code",
   "execution_count": 42,
   "metadata": {},
   "outputs": [],
   "source": [
    "import pandas as pd\n",
    "\n",
    "female_records = math_df[math_df['sex'] == 'F']\n",
    "\n",
    "if not female_records.empty:\n",
    "    random_female_record = female_records.sample(n=1, random_state=42)  \n",
    "    df_trial = math_df.drop(female_records.index.difference(random_female_record.index))\n"
   ]
  },
  {
   "cell_type": "code",
   "execution_count": 43,
   "metadata": {},
   "outputs": [
    {
     "name": "stdout",
     "output_type": "stream",
     "text": [
      "sex\n",
      "F      1\n",
      "M    187\n",
      "Name: absences, dtype: int64\n"
     ]
    }
   ],
   "source": [
    "import pandas as pd\n",
    "\n",
    "absences_per_gender = df_trial.groupby('sex')['absences'].count()\n",
    "print(absences_per_gender)\n"
   ]
  },
  {
   "cell_type": "code",
   "execution_count": 44,
   "metadata": {},
   "outputs": [],
   "source": [
    "from pipeline_dp import budget_accounting\n",
    "import pipeline_dp.aggregate_params as aggregate_params\n",
    "from pipeline_dp.dp_engine import DPEngine\n",
    "import pipeline_dp.pipeline_backend as pipeline_backend\n",
    "from tests import dp_engine_test\n",
    "rows = [index_row[1] for index_row in df_trial.iterrows()]\n",
    "\n",
    "backend = pipeline_backend.LocalBackend()\n",
    "budget_accountant = budget_accounting.NaiveBudgetAccountant(total_epsilon=1, total_delta=1e-6)\n",
    "dp_engine = DPEngine(budget_accountant, backend)"
   ]
  },
  {
   "cell_type": "code",
   "execution_count": 45,
   "metadata": {},
   "outputs": [],
   "source": [
    "import pipeline_dp\n",
    "from pipeline_dp.aggregate_params import AggregateParams\n",
    "from pipeline_dp.data_extractors import DataExtractors\n",
    "\n",
    "data_extractors = DataExtractors(\n",
    "   partition_extractor=lambda row: row.sex, # partition is also ID\n",
    "   privacy_id_extractor=lambda row: row.ID, # privacy ID\n",
    "   value_extractor=lambda row: row.absences) # value to be aggregated - we count the number of IDs\n",
    "\n",
    "params = AggregateParams(\n",
    "   noise_kind=pipeline_dp.NoiseKind.GAUSSIAN,\n",
    "   metrics=[pipeline_dp.Metrics.COUNT],\n",
    "   min_value=0,\n",
    "   max_value=100,\n",
    "   max_partitions_contributed=1,\n",
    "   max_contributions_per_partition=1\n",
    ")"
   ]
  },
  {
   "cell_type": "code",
   "execution_count": 46,
   "metadata": {},
   "outputs": [],
   "source": [
    "dp_result = dp_engine.aggregate(rows, params, data_extractors)\n",
    "budget_accountant.compute_budgets()\n",
    "dp_result = list(dp_result)"
   ]
  },
  {
   "cell_type": "code",
   "execution_count": 47,
   "metadata": {},
   "outputs": [
    {
     "name": "stdout",
     "output_type": "stream",
     "text": [
      "[('M', MetricsTuple(count=174.20468192308664))]\n"
     ]
    }
   ],
   "source": [
    "print(dp_result)"
   ]
  },
  {
   "cell_type": "markdown",
   "metadata": {},
   "source": [
    " ## Count of absences per gender - 0 F records"
   ]
  },
  {
   "cell_type": "code",
   "execution_count": 48,
   "metadata": {},
   "outputs": [],
   "source": [
    "# Drop all records with gender as 'F'\n",
    "df_trial_2 = df_trial[df_trial['sex'] != 'F']"
   ]
  },
  {
   "cell_type": "code",
   "execution_count": 49,
   "metadata": {},
   "outputs": [
    {
     "name": "stdout",
     "output_type": "stream",
     "text": [
      "sex\n",
      "M    187\n",
      "Name: absences, dtype: int64\n"
     ]
    }
   ],
   "source": [
    "import pandas as pd\n",
    "\n",
    "absences_per_gender = df_trial_2.groupby('sex')['absences'].count()\n",
    "print(absences_per_gender)\n"
   ]
  },
  {
   "cell_type": "code",
   "execution_count": 50,
   "metadata": {},
   "outputs": [],
   "source": [
    "from pipeline_dp import budget_accounting\n",
    "import pipeline_dp.aggregate_params as aggregate_params\n",
    "from pipeline_dp.dp_engine import DPEngine\n",
    "import pipeline_dp.pipeline_backend as pipeline_backend\n",
    "from tests import dp_engine_test\n",
    "rows = [index_row[1] for index_row in df_trial_2.iterrows()]\n",
    "\n",
    "backend = pipeline_backend.LocalBackend()\n",
    "budget_accountant = budget_accounting.NaiveBudgetAccountant(total_epsilon=1, total_delta=1e-6)\n",
    "dp_engine = DPEngine(budget_accountant, backend)"
   ]
  },
  {
   "cell_type": "code",
   "execution_count": 51,
   "metadata": {},
   "outputs": [],
   "source": [
    "import pipeline_dp\n",
    "from pipeline_dp.aggregate_params import AggregateParams\n",
    "from pipeline_dp.data_extractors import DataExtractors\n",
    "\n",
    "data_extractors = DataExtractors(\n",
    "   partition_extractor=lambda row: row.sex, # partition is also ID\n",
    "   privacy_id_extractor=lambda row: row.ID, # privacy ID\n",
    "   value_extractor=lambda row: row.absences) # value to be aggregated - we count the number of IDs\n",
    "\n",
    "params = AggregateParams(\n",
    "   noise_kind=pipeline_dp.NoiseKind.GAUSSIAN,\n",
    "   metrics=[pipeline_dp.Metrics.COUNT],\n",
    "   min_value=0,\n",
    "   max_value=100,\n",
    "   max_partitions_contributed=1,\n",
    "   max_contributions_per_partition=1\n",
    ")"
   ]
  },
  {
   "cell_type": "code",
   "execution_count": 52,
   "metadata": {},
   "outputs": [],
   "source": [
    "dp_result = dp_engine.aggregate(rows, params, data_extractors)\n",
    "budget_accountant.compute_budgets()\n",
    "dp_result = list(dp_result)"
   ]
  },
  {
   "cell_type": "code",
   "execution_count": 53,
   "metadata": {},
   "outputs": [
    {
     "name": "stdout",
     "output_type": "stream",
     "text": [
      "[('M', MetricsTuple(count=183.65996613181704))]\n"
     ]
    }
   ],
   "source": [
    "print(dp_result)"
   ]
  },
  {
   "cell_type": "code",
   "execution_count": 54,
   "metadata": {},
   "outputs": [],
   "source": [
    "df_trial_3 = math_df[math_df['absences'] > 20]\n",
    "df_trial_4 = math_df[math_df['absences'] > 30]\n",
    "\n",
    "df_trial_5 = math_df[math_df['absences'] > 10]"
   ]
  },
  {
   "cell_type": "code",
   "execution_count": 55,
   "metadata": {},
   "outputs": [
    {
     "name": "stdout",
     "output_type": "stream",
     "text": [
      "sex\n",
      "F    12\n",
      "M     3\n",
      "Name: absences, dtype: int64\n",
      "sex\n",
      "F    4\n",
      "M    1\n",
      "Name: absences, dtype: int64\n",
      "sex\n",
      "F    37\n",
      "M    29\n",
      "Name: absences, dtype: int64\n"
     ]
    }
   ],
   "source": [
    "absences_per_gender = df_trial_3.groupby('sex')['absences'].count()\n",
    "absences_per_gender_ = df_trial_4.groupby('sex')['absences'].count()\n",
    "absences_per_gender__ = df_trial_5.groupby('sex')['absences'].count()\n",
    "print(absences_per_gender)\n",
    "print(absences_per_gender_)\n",
    "print(absences_per_gender__)"
   ]
  },
  {
   "cell_type": "code",
   "execution_count": 56,
   "metadata": {},
   "outputs": [],
   "source": [
    "from pipeline_dp import budget_accounting\n",
    "import pipeline_dp.aggregate_params as aggregate_params\n",
    "from pipeline_dp.dp_engine import DPEngine\n",
    "import pipeline_dp.pipeline_backend as pipeline_backend\n",
    "from tests import dp_engine_test\n",
    "rows = [index_row[1] for index_row in df_trial_3.iterrows()]\n",
    "\n",
    "backend = pipeline_backend.LocalBackend()\n",
    "budget_accountant = budget_accounting.NaiveBudgetAccountant(total_epsilon=1, total_delta=1e-6)\n",
    "dp_engine = DPEngine(budget_accountant, backend)"
   ]
  },
  {
   "cell_type": "code",
   "execution_count": 57,
   "metadata": {},
   "outputs": [],
   "source": [
    "import pipeline_dp\n",
    "from pipeline_dp.aggregate_params import AggregateParams\n",
    "from pipeline_dp.data_extractors import DataExtractors\n",
    "\n",
    "data_extractors = DataExtractors(\n",
    "   partition_extractor=lambda row: row.sex, # partition is also ID\n",
    "   privacy_id_extractor=lambda row: row.ID, # privacy ID\n",
    "   value_extractor=lambda row: row.absences) # value to be aggregated - we count the number of IDs\n",
    "\n",
    "params = AggregateParams(\n",
    "   noise_kind=pipeline_dp.NoiseKind.GAUSSIAN,\n",
    "   metrics=[pipeline_dp.Metrics.COUNT],\n",
    "   min_value=0,\n",
    "   max_value=100,\n",
    "   max_partitions_contributed=1,\n",
    "   max_contributions_per_partition=1\n",
    ")"
   ]
  },
  {
   "cell_type": "code",
   "execution_count": 58,
   "metadata": {},
   "outputs": [
    {
     "name": "stdout",
     "output_type": "stream",
     "text": [
      "[]\n"
     ]
    }
   ],
   "source": [
    "dp_result = dp_engine.aggregate(rows, params, data_extractors)\n",
    "budget_accountant.compute_budgets()\n",
    "dp_result = list(dp_result)\n",
    "print(dp_result)"
   ]
  },
  {
   "cell_type": "code",
   "execution_count": 59,
   "metadata": {},
   "outputs": [],
   "source": [
    "from pipeline_dp import budget_accounting\n",
    "import pipeline_dp.aggregate_params as aggregate_params\n",
    "from pipeline_dp.dp_engine import DPEngine\n",
    "import pipeline_dp.pipeline_backend as pipeline_backend\n",
    "from tests import dp_engine_test\n",
    "rows = [index_row[1] for index_row in df_trial_4.iterrows()]\n",
    "\n",
    "backend = pipeline_backend.LocalBackend()\n",
    "budget_accountant = budget_accounting.NaiveBudgetAccountant(total_epsilon=1, total_delta=1e-6)\n",
    "dp_engine = DPEngine(budget_accountant, backend)"
   ]
  },
  {
   "cell_type": "code",
   "execution_count": 60,
   "metadata": {},
   "outputs": [],
   "source": [
    "import pipeline_dp\n",
    "from pipeline_dp.aggregate_params import AggregateParams\n",
    "from pipeline_dp.data_extractors import DataExtractors\n",
    "\n",
    "data_extractors = DataExtractors(\n",
    "   partition_extractor=lambda row: row.sex, # partition is also ID\n",
    "   privacy_id_extractor=lambda row: row.ID, # privacy ID\n",
    "   value_extractor=lambda row: row.absences) # value to be aggregated - we count the number of IDs\n",
    "\n",
    "params = AggregateParams(\n",
    "   noise_kind=pipeline_dp.NoiseKind.GAUSSIAN,\n",
    "   metrics=[pipeline_dp.Metrics.COUNT],\n",
    "   min_value=0,\n",
    "   max_value=100,\n",
    "   max_partitions_contributed=1,\n",
    "   max_contributions_per_partition=1\n",
    ")"
   ]
  },
  {
   "cell_type": "code",
   "execution_count": 61,
   "metadata": {},
   "outputs": [
    {
     "name": "stdout",
     "output_type": "stream",
     "text": [
      "[]\n"
     ]
    }
   ],
   "source": [
    "dp_result = dp_engine.aggregate(rows, params, data_extractors)\n",
    "budget_accountant.compute_budgets()\n",
    "dp_result = list(dp_result)\n",
    "print(dp_result)"
   ]
  },
  {
   "cell_type": "code",
   "execution_count": 62,
   "metadata": {},
   "outputs": [],
   "source": [
    "from pipeline_dp import budget_accounting\n",
    "import pipeline_dp.aggregate_params as aggregate_params\n",
    "from pipeline_dp.dp_engine import DPEngine\n",
    "import pipeline_dp.pipeline_backend as pipeline_backend\n",
    "from tests import dp_engine_test\n",
    "rows = [index_row[1] for index_row in df_trial_5.iterrows()]\n",
    "\n",
    "backend = pipeline_backend.LocalBackend()\n",
    "budget_accountant = budget_accounting.NaiveBudgetAccountant(total_epsilon=1, total_delta=1e-6)\n",
    "dp_engine = DPEngine(budget_accountant, backend)"
   ]
  },
  {
   "cell_type": "code",
   "execution_count": 63,
   "metadata": {},
   "outputs": [],
   "source": [
    "import pipeline_dp\n",
    "from pipeline_dp.aggregate_params import AggregateParams\n",
    "from pipeline_dp.data_extractors import DataExtractors\n",
    "\n",
    "data_extractors = DataExtractors(\n",
    "   partition_extractor=lambda row: row.sex, # partition is also ID\n",
    "   privacy_id_extractor=lambda row: row.ID, # privacy ID\n",
    "   value_extractor=lambda row: row.absences) # value to be aggregated - we count the number of IDs\n",
    "\n",
    "params = AggregateParams(\n",
    "   noise_kind=pipeline_dp.NoiseKind.GAUSSIAN,\n",
    "   metrics=[pipeline_dp.Metrics.COUNT],\n",
    "   min_value=0,\n",
    "   max_value=100,\n",
    "   max_partitions_contributed=1,\n",
    "   max_contributions_per_partition=1\n",
    ")"
   ]
  },
  {
   "cell_type": "code",
   "execution_count": 64,
   "metadata": {},
   "outputs": [
    {
     "name": "stdout",
     "output_type": "stream",
     "text": [
      "[('M', MetricsTuple(count=34.12707479077276)), ('F', MetricsTuple(count=35.353199567679965))]\n"
     ]
    }
   ],
   "source": [
    "dp_result = dp_engine.aggregate(rows, params, data_extractors)\n",
    "budget_accountant.compute_budgets()\n",
    "dp_result = list(dp_result)\n",
    "print(dp_result)"
   ]
  }
 ],
 "metadata": {
  "kernelspec": {
   "display_name": "Python 3",
   "language": "python",
   "name": "python3"
  },
  "language_info": {
   "codemirror_mode": {
    "name": "ipython",
    "version": 3
   },
   "file_extension": ".py",
   "mimetype": "text/x-python",
   "name": "python",
   "nbconvert_exporter": "python",
   "pygments_lexer": "ipython3",
   "version": "3.9.6"
  }
 },
 "nbformat": 4,
 "nbformat_minor": 2
}
